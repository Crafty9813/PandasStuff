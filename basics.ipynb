{
 "cells": [
  {
   "cell_type": "code",
   "execution_count": 2,
   "metadata": {},
   "outputs": [],
   "source": [
    "import pandas as pd\n",
    "import numpy as np"
   ]
  },
  {
   "cell_type": "code",
   "execution_count": 3,
   "metadata": {},
   "outputs": [
    {
     "name": "stdout",
     "output_type": "stream",
     "text": [
      "    Name  Age\n",
      "0    Bob   50\n",
      "1   Fred   20\n",
      "2   Bill   60\n",
      "3  Jimmy   70\n",
      "4    Tom    0\n"
     ]
    }
   ],
   "source": [
    "\n",
    "'''\n",
    "data = {\n",
    "\n",
    "    \"Names\":[\"Bob\", \"Fred\", \"Bill\", \"Jerry\"],\n",
    "    \"Age\":[50, 30, 40, 65]\n",
    "\n",
    "}\n",
    "'''\n",
    "\n",
    "data = pd.read_json('data.json')\n",
    "\n",
    "df = pd.DataFrame(data)\n",
    "\n",
    "print(df.loc[[0, 1, 2, 3, 4]]) #get rows 0, 1, 2, 3, 4"
   ]
  },
  {
   "cell_type": "code",
   "execution_count": 5,
   "metadata": {},
   "outputs": [
    {
     "data": {
      "text/html": [
       "<div>\n",
       "<style scoped>\n",
       "    .dataframe tbody tr th:only-of-type {\n",
       "        vertical-align: middle;\n",
       "    }\n",
       "\n",
       "    .dataframe tbody tr th {\n",
       "        vertical-align: top;\n",
       "    }\n",
       "\n",
       "    .dataframe thead th {\n",
       "        text-align: right;\n",
       "    }\n",
       "</style>\n",
       "<table border=\"1\" class=\"dataframe\">\n",
       "  <thead>\n",
       "    <tr style=\"text-align: right;\">\n",
       "      <th></th>\n",
       "      <th>Animal</th>\n",
       "      <th>Noise</th>\n",
       "    </tr>\n",
       "  </thead>\n",
       "  <tbody>\n",
       "    <tr>\n",
       "      <th>row3</th>\n",
       "      <td>Bird</td>\n",
       "      <td>chirp</td>\n",
       "    </tr>\n",
       "    <tr>\n",
       "      <th>row4</th>\n",
       "      <td>Pig</td>\n",
       "      <td>oink</td>\n",
       "    </tr>\n",
       "    <tr>\n",
       "      <th>row5</th>\n",
       "      <td>Wolf</td>\n",
       "      <td>awoo</td>\n",
       "    </tr>\n",
       "    <tr>\n",
       "      <th>row6</th>\n",
       "      <td>Cow</td>\n",
       "      <td>moo</td>\n",
       "    </tr>\n",
       "    <tr>\n",
       "      <th>row7</th>\n",
       "      <td>Bear</td>\n",
       "      <td>growl</td>\n",
       "    </tr>\n",
       "    <tr>\n",
       "      <th>row8</th>\n",
       "      <td>Chicken</td>\n",
       "      <td>bokbok</td>\n",
       "    </tr>\n",
       "  </tbody>\n",
       "</table>\n",
       "</div>"
      ],
      "text/plain": [
       "       Animal   Noise\n",
       "row3     Bird   chirp\n",
       "row4      Pig    oink\n",
       "row5     Wolf    awoo\n",
       "row6      Cow     moo\n",
       "row7     Bear   growl\n",
       "row8  Chicken  bokbok"
      ]
     },
     "execution_count": 5,
     "metadata": {},
     "output_type": "execute_result"
    }
   ],
   "source": [
    "#ANIMAL SOUND IDK\n",
    "\n",
    "import pandas as pd\n",
    "import matplotlib.pyplot as plt\n",
    "import numpy as np\n",
    "\n",
    "df = pd.read_csv('animalSounds.csv')\n",
    "df.index = ['row1', 'row2', 'row3', 'row4', 'row5', 'row6', 'row7', 'row8', 'row9']\n",
    "#df.aggregate(1)\n",
    "df.drop(index = 'row1')\n",
    "df[2:8]\n",
    "\n",
    "#print(df.head())"
   ]
  },
  {
   "cell_type": "code",
   "execution_count": null,
   "metadata": {},
   "outputs": [],
   "source": []
  }
 ],
 "metadata": {
  "kernelspec": {
   "display_name": "Python 3",
   "language": "python",
   "name": "python3"
  },
  "language_info": {
   "codemirror_mode": {
    "name": "ipython",
    "version": 3
   },
   "file_extension": ".py",
   "mimetype": "text/x-python",
   "name": "python",
   "nbconvert_exporter": "python",
   "pygments_lexer": "ipython3",
   "version": "3.11.1"
  }
 },
 "nbformat": 4,
 "nbformat_minor": 2
}
