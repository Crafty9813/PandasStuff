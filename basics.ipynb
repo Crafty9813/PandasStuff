{
 "cells": [
  {
   "cell_type": "code",
   "execution_count": 1,
   "metadata": {},
   "outputs": [],
   "source": [
    "import pandas as pd\n",
    "import numpy as np"
   ]
  },
  {
   "cell_type": "code",
   "execution_count": 11,
   "metadata": {},
   "outputs": [
    {
     "name": "stdout",
     "output_type": "stream",
     "text": [
      "    Name  Age\n",
      "0    Bob   50\n",
      "1   Fred   20\n",
      "2   Bill   60\n",
      "3  Jimmy   70\n",
      "4    Tom    0\n"
     ]
    }
   ],
   "source": [
    "\n",
    "'''\n",
    "data = {\n",
    "\n",
    "    \"Names\":[\"Bob\", \"Fred\", \"Bill\", \"Jerry\"],\n",
    "    \"Age\":[50, 30, 40, 65]\n",
    "\n",
    "}\n",
    "'''\n",
    "\n",
    "data = pd.read_json('data.json')\n",
    "\n",
    "df = pd.DataFrame(data)\n",
    "\n",
    "print(df.loc[[0, 1, 2, 3, 4]]) #get rows 0, 1, 2, 3, 4"
   ]
  },
  {
   "cell_type": "code",
   "execution_count": null,
   "metadata": {},
   "outputs": [],
   "source": []
  }
 ],
 "metadata": {
  "kernelspec": {
   "display_name": "Python 3",
   "language": "python",
   "name": "python3"
  },
  "language_info": {
   "codemirror_mode": {
    "name": "ipython",
    "version": 3
   },
   "file_extension": ".py",
   "mimetype": "text/x-python",
   "name": "python",
   "nbconvert_exporter": "python",
   "pygments_lexer": "ipython3",
   "version": "3.11.1"
  }
 },
 "nbformat": 4,
 "nbformat_minor": 2
}
